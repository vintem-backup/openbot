{
 "cells": [
  {
   "cell_type": "markdown",
   "metadata": {},
   "source": [
    "# Constructo de Testes\n",
    "\n",
    "#### Este ambiente visa possibilitar os testes, tanto de módulos e funções, como de \"programas principais\" que compõe o cluster do OpenBot. Para tanto, o fluxo de atividades básicas é:\n",
    "\n",
    "> i) Evoca o banco de dados  \n",
    "    >> subseção  \n",
    "> ii) Sobe o banco, caso o mesmo não responda.\n"
   ]
  },
  {
   "cell_type": "code",
   "execution_count": 1,
   "metadata": {},
   "outputs": [],
   "source": [
    "#!/usr/bin/env python\n",
    "# coding: utf-8\n",
    "\n",
    "#Importando bibliotecas do sistema\n",
    "import sys\n",
    "import os\n",
    "\n",
    "project_home = os.getcwd().split(sep=\"docker-cluster\")[0]+'docker-cluster/'\n",
    "sys.path.append(project_home)\n",
    "\n",
    "import lib"
   ]
  },
  {
   "cell_type": "code",
   "execution_count": 2,
   "metadata": {},
   "outputs": [],
   "source": [
    "#Exportando variáveis de ambiente\n",
    "envfile = project_home+'dev.env'\n",
    "\n",
    "lines = open(envfile).readlines()\n",
    "for i in range(0,len(lines)):\n",
    "    if (lines[i][0] == '#'):\n",
    "        pass\n",
    "    else:\n",
    "        if ('=' in lines[i]):\n",
    "            key=lines[i].split('=')[0]\n",
    "            value=lines[i].split('=')[1].split()[0]\n",
    "            os.environ[key] = value\n",
    "            #Uncomment print for verbose\n",
    "            #print (f'Exported: {key} = {value}\\n')"
   ]
  },
  {
   "cell_type": "code",
   "execution_count": 4,
   "metadata": {},
   "outputs": [
    {
     "name": "stdout",
     "output_type": "stream",
     "text": [
      "done\n"
     ]
    }
   ],
   "source": [
    "#Test the lib modules\n",
    "\n",
    "#from lib import <module_name>. Exemple:\n",
    "\n",
    "from lib import notice\n",
    "\n",
    "test = notice.Telegrambot('Some msg').trade()\n",
    "\n",
    "notice.Telegrambot\n",
    "\n",
    "\n",
    "print(test)"
   ]
  },
  {
   "cell_type": "code",
   "execution_count": null,
   "metadata": {},
   "outputs": [],
   "source": []
  },
  {
   "cell_type": "code",
   "execution_count": null,
   "metadata": {},
   "outputs": [],
   "source": [
    "\n",
    "start = root+'worker/start.py'\n",
    "get_data = root+'worker/get_data.py'\n",
    "main=root+'worker/strategies/alpha/main.py'\n",
    "\n",
    "#print(file)\n",
    "#print (target)\n",
    "\n",
    "export_env_var(envfile)"
   ]
  },
  {
   "cell_type": "code",
   "execution_count": null,
   "metadata": {},
   "outputs": [],
   "source": []
  },
  {
   "cell_type": "code",
   "execution_count": null,
   "metadata": {},
   "outputs": [],
   "source": []
  },
  {
   "cell_type": "code",
   "execution_count": null,
   "metadata": {},
   "outputs": [],
   "source": []
  },
  {
   "cell_type": "code",
   "execution_count": null,
   "metadata": {},
   "outputs": [],
   "source": []
  },
  {
   "cell_type": "code",
   "execution_count": null,
   "metadata": {},
   "outputs": [],
   "source": []
  },
  {
   "cell_type": "code",
   "execution_count": null,
   "metadata": {},
   "outputs": [],
   "source": []
  },
  {
   "cell_type": "code",
   "execution_count": null,
   "metadata": {},
   "outputs": [],
   "source": []
  },
  {
   "cell_type": "code",
   "execution_count": null,
   "metadata": {},
   "outputs": [],
   "source": []
  },
  {
   "cell_type": "code",
   "execution_count": null,
   "metadata": {},
   "outputs": [],
   "source": []
  },
  {
   "cell_type": "code",
   "execution_count": null,
   "metadata": {},
   "outputs": [],
   "source": []
  },
  {
   "cell_type": "code",
   "execution_count": null,
   "metadata": {},
   "outputs": [],
   "source": []
  },
  {
   "cell_type": "code",
   "execution_count": null,
   "metadata": {},
   "outputs": [],
   "source": [
    "#Exporting environment variables\n",
    "\n",
    "def export_env_var(file):\n",
    "\n",
    "    pass"
   ]
  },
  {
   "cell_type": "code",
   "execution_count": null,
   "metadata": {},
   "outputs": [],
   "source": []
  },
  {
   "cell_type": "code",
   "execution_count": null,
   "metadata": {},
   "outputs": [],
   "source": [
    "!python $main"
   ]
  },
  {
   "cell_type": "code",
   "execution_count": null,
   "metadata": {},
   "outputs": [],
   "source": [
    "900/3000"
   ]
  },
  {
   "cell_type": "code",
   "execution_count": null,
   "metadata": {},
   "outputs": [],
   "source": []
  }
 ],
 "metadata": {
  "kernelspec": {
   "display_name": "Python 3",
   "language": "python",
   "name": "python3"
  },
  "language_info": {
   "codemirror_mode": {
    "name": "ipython",
    "version": 3
   },
   "file_extension": ".py",
   "mimetype": "text/x-python",
   "name": "python",
   "nbconvert_exporter": "python",
   "pygments_lexer": "ipython3",
   "version": "3.7.1"
  }
 },
 "nbformat": 4,
 "nbformat_minor": 2
}

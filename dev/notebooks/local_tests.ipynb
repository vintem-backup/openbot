{
 "cells": [
  {
   "cell_type": "code",
   "execution_count": null,
   "metadata": {},
   "outputs": [],
   "source": [
    "#!/usr/bin/env python\n",
    "# coding: utf-8\n",
    "\n",
    "import sys\n",
    "import os"
   ]
  },
  {
   "cell_type": "code",
   "execution_count": null,
   "metadata": {},
   "outputs": [],
   "source": [
    "#Exporting environment variables\n",
    "\n",
    "def export_env_var(file):\n",
    "    lines = open(file).readlines()\n",
    "    \n",
    "    for i in range(0,len(lines)):\n",
    "        if (lines[i][0] == '#'):\n",
    "            pass\n",
    "        \n",
    "        else:\n",
    "            if ('=' in lines[i]):\n",
    "                key=lines[i].split('=')[0]\n",
    "                value=lines[i].split('=')[1].split()[0]\n",
    "                os.environ[key] = value\n",
    "            \n",
    "                #Uncomment print for verbose\n",
    "                #print (f'Exported: {key} = {value}\\n')\n",
    "    pass"
   ]
  },
  {
   "cell_type": "code",
   "execution_count": null,
   "metadata": {},
   "outputs": [],
   "source": [
    "root = os.getcwd().split(sep=\"docker-cluster\")[0]+'docker-cluster/'\n",
    "\n",
    "envfile = root+'.env'\n",
    "start = root+'worker/start.py'\n",
    "get_data = root+'worker/get_data.py'\n",
    "main=root+'worker/strategies/alpha/main.py'\n",
    "\n",
    "#print(file)\n",
    "#print (target)\n",
    "\n",
    "export_env_var(envfile)"
   ]
  },
  {
   "cell_type": "code",
   "execution_count": null,
   "metadata": {},
   "outputs": [],
   "source": [
    "!python $main"
   ]
  },
  {
   "cell_type": "code",
   "execution_count": 2,
   "metadata": {},
   "outputs": [
    {
     "data": {
      "text/plain": [
       "0.3"
      ]
     },
     "execution_count": 2,
     "metadata": {},
     "output_type": "execute_result"
    }
   ],
   "source": [
    "900/3000"
   ]
  },
  {
   "cell_type": "code",
   "execution_count": null,
   "metadata": {},
   "outputs": [],
   "source": []
  }
 ],
 "metadata": {
  "kernelspec": {
   "display_name": "Python 3",
   "language": "python",
   "name": "python3"
  },
  "language_info": {
   "codemirror_mode": {
    "name": "ipython",
    "version": 3
   },
   "file_extension": ".py",
   "mimetype": "text/x-python",
   "name": "python",
   "nbconvert_exporter": "python",
   "pygments_lexer": "ipython3",
   "version": "3.7.1"
  }
 },
 "nbformat": 4,
 "nbformat_minor": 2
}
#
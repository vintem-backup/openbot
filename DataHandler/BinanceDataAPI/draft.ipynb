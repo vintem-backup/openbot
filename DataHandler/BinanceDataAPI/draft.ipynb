{
 "cells": [
  {
   "cell_type": "code",
   "execution_count": null,
   "metadata": {},
   "outputs": [],
   "source": []
  },
  {
   "cell_type": "code",
   "execution_count": 1,
   "metadata": {},
   "outputs": [],
   "source": [
    "import os\n",
    "os.environ.setdefault(\"DJANGO_SETTINGS_MODULE\", \"BinanceDataAPI.settings\")\n",
    "import django\n",
    "django.setup()\n",
    "from binance.client import Client\n",
    "from datetime import datetime\n",
    "import requests"
   ]
  },
  {
   "cell_type": "markdown",
   "metadata": {},
   "source": [
    "# TESTANDO COM WRAP PYTHON E REQUEST"
   ]
  },
  {
   "cell_type": "code",
   "execution_count": 2,
   "metadata": {},
   "outputs": [],
   "source": [
    "#Binance Client\n",
    "\n",
    "#Para obtenção destes dados, não é necessário autenticar usuário\n",
    "client = Client('', '')"
   ]
  },
  {
   "cell_type": "code",
   "execution_count": 58,
   "metadata": {},
   "outputs": [
    {
     "data": {
      "text/plain": [
       "'\\n    1499040000000,      // Open time (miliseconds)\\n    \"0.01634790\",       // Open\\n    \"0.80000000\",       // High\\n    \"0.01575800\",       // Low\\n    \"0.01577100\",       // Close\\n    \"148976.11427815\",  // Volume\\n    1499644799999,      // Close time\\n    \"2434.19055334\",    // Quote asset volume\\n    308,                // Number of trades\\n    \"1756.87402397\",    // Taker buy base asset volume\\n    \"28.46694368\",      // Taker buy quote asset volume\\n    \"17928899.62484339\" // Ignore.\\n  ]\\n\\n'"
      ]
     },
     "execution_count": 58,
     "metadata": {},
     "output_type": "execute_result"
    }
   ],
   "source": [
    "candles = client.get_klines(symbol='BNBBTC', interval=Client.KLINE_INTERVAL_1MINUTE)\n",
    "\n",
    "request_machine_instant = datetime.now()\n",
    "\n",
    "request_binance_instant = datetime.fromtimestamp(int(float(client.get_server_time()['serverTime'])/1000))\n",
    "\n",
    "symbol = 'BNBBTC'\n",
    "granulacao_malha = '1m'\n",
    "\n",
    "r = requests.get('https://api.binance.com/api/v1/klines?symbol='+symbol+'&interval='+granulacao_malha)\n",
    "#Retorna do candle aberto mais recente até 499 candles anteriores, por request\n",
    "'''\n",
    "    1499040000000,      // Open time (miliseconds)\n",
    "    \"0.01634790\",       // Open\n",
    "    \"0.80000000\",       // High\n",
    "    \"0.01575800\",       // Low\n",
    "    \"0.01577100\",       // Close\n",
    "    \"148976.11427815\",  // Volume\n",
    "    1499644799999,      // Close time\n",
    "    \"2434.19055334\",    // Quote asset volume\n",
    "    308,                // Number of trades\n",
    "    \"1756.87402397\",    // Taker buy base asset volume\n",
    "    \"28.46694368\",      // Taker buy quote asset volume\n",
    "    \"17928899.62484339\" // Ignore.\n",
    "  ]\n",
    "\n",
    "'''"
   ]
  },
  {
   "cell_type": "code",
   "execution_count": 62,
   "metadata": {},
   "outputs": [
    {
     "name": "stdout",
     "output_type": "stream",
     "text": [
      "Candle mais antigo retornado:\n",
      "> Wrap....: [1557223560000, '0.00372330', '0.00372710', '0.00372330', '0.00372340', '390.43000000', 1557223619999, '1.45417279', 38, '103.62000000', '0.38608025', '0']\n",
      "\n",
      "> Request.: [1557223560000, '0.00372330', '0.00372710', '0.00372330', '0.00372340', '390.43000000', 1557223619999, '1.45417279', 38, '103.62000000', '0.38608025', '0']\n",
      "\n",
      "\n",
      "Candle mais recente retornado:\n",
      "> Wrap....: [1557253500000, '0.00365330', '0.00365980', '0.00365300', '0.00365430', '247.76000000', 1557253559999, '0.90587357', 28, '202.68000000', '0.74101787', '0']\n",
      "\n",
      "> Request.: [1557253500000, '0.00365330', '0.00365980', '0.00365300', '0.00365430', '247.76000000', 1557253559999, '0.90587357', 28, '202.68000000', '0.74101787', '0']\n"
     ]
    }
   ],
   "source": [
    "print('Candle mais antigo retornado:')\n",
    "      \n",
    "print('> Wrap....:',candles[0])\n",
    "print ('')\n",
    "print('> Request.:',r.json()[0])\n",
    "print ('')\n",
    "print ('')\n",
    "\n",
    "print('Candle mais recente retornado:')\n",
    "      \n",
    "print('> Wrap....:',candles[499])\n",
    "print ('')\n",
    "print('> Request.:',r.json()[499])"
   ]
  },
  {
   "cell_type": "code",
   "execution_count": 70,
   "metadata": {},
   "outputs": [
    {
     "name": "stdout",
     "output_type": "stream",
     "text": [
      "500\n",
      "500\n"
     ]
    }
   ],
   "source": [
    "#São retornados 500 candles por request\n",
    "print(len(candles))\n",
    "print(len(r.json()))"
   ]
  },
  {
   "cell_type": "code",
   "execution_count": 11,
   "metadata": {},
   "outputs": [],
   "source": [
    "def MinToHour(minutos):\n",
    "    \n",
    "    H = str(int(minutos/60))\n",
    "    m = str(minutos%60)\n",
    "    \n",
    "    horas = H+':'+m\n",
    "    \n",
    "    return horas"
   ]
  },
  {
   "cell_type": "code",
   "execution_count": 36,
   "metadata": {},
   "outputs": [
    {
     "name": "stdout",
     "output_type": "stream",
     "text": [
      "REQUEST INSTANT:\n",
      "\n",
      "> local:  2019-05-07 17:20:03.758597\n",
      "\n",
      "> Binance:  2019-05-07 17:20:26\n",
      "\n",
      "candle_mais_antigo_retornado =  2019-05-07 09:01:00\n",
      "\n",
      "candle_mais_novo_retornado =  2019-05-07 17:20:00\n",
      "\n",
      "Diferença de tempo entre os candles = 8:20\n"
     ]
    }
   ],
   "source": [
    "#Teste\n",
    "\n",
    "candle_mais_antigo_retornado = datetime.fromtimestamp(int((candles[0][0])/1000))\n",
    "\n",
    "candle_mais_novo_retornado = datetime.fromtimestamp(int((candles[499][0])/1000))\n",
    "\n",
    "print(\"REQUEST INSTANT:\")\n",
    "print ('')\n",
    "print(\"> local: \",request_machine_instant)\n",
    "print ('')\n",
    "print(\"> Binance: \",request_binance_instant)\n",
    "print ('')\n",
    "print ('candle_mais_antigo_retornado = ',candle_mais_antigo_retornado)\n",
    "print ('')\n",
    "print('candle_mais_novo_retornado = ',candle_mais_novo_retornado)\n",
    "print ('')\n",
    "\n",
    "delta = MinToHour(500)\n",
    "\n",
    "print('Diferença de tempo entre os candles = ' + delta)\n",
    "\n",
    "#Será necessário descartar a última amostra, já que o candle deste instante ainda não foi fechado\n",
    "#O horário da binance está em UTC"
   ]
  },
  {
   "cell_type": "code",
   "execution_count": 82,
   "metadata": {},
   "outputs": [],
   "source": [
    "# Agora é preciso repetir o request definindo instantes limites da aquisição\n",
    "\n",
    "symbol = 'BNBBTC'\n",
    "granulacao_malha = '1m'\n",
    "start_time = '1557223560000'\n",
    "end_time = '1557253500000'\n",
    "\n",
    "# 1 - Com ambos os limites definidos \n",
    "r_1 = requests.get('https://api.binance.com/api/v1/klines?symbol='+symbol+'&interval='+granulacao_malha+'&startTime='+start_time+'&endTime='+end_time)\n",
    "\n",
    "# 2 - Apenas com limite inferior definido \n",
    "r_2 = requests.get('https://api.binance.com/api/v1/klines?symbol='+symbol+'&interval='+granulacao_malha+'&startTime='+start_time)\n",
    "\n",
    "# 3 - Apenas com limite superior definido \n",
    "r_3 = requests.get('https://api.binance.com/api/v1/klines?symbol='+symbol+'&interval='+granulacao_malha+'&endTime='+end_time)\n"
   ]
  },
  {
   "cell_type": "code",
   "execution_count": 87,
   "metadata": {},
   "outputs": [
    {
     "name": "stdout",
     "output_type": "stream",
     "text": [
      "Candle mais antigo retornado:\n",
      "> Wrap....: [1557223560000, '0.00372330', '0.00372710', '0.00372330', '0.00372340', '390.43000000', 1557223619999, '1.45417279', 38, '103.62000000', '0.38608025', '0']\n",
      "\n",
      "> Request.: [1557223560000, '0.00372330', '0.00372710', '0.00372330', '0.00372340', '390.43000000', 1557223619999, '1.45417279', 38, '103.62000000', '0.38608025', '0']\n",
      "\n",
      "\n",
      "Candle mais recente retornado:\n",
      "> Wrap....: [1557253500000, '0.00365330', '0.00365980', '0.00365300', '0.00365430', '247.76000000', 1557253559999, '0.90587357', 28, '202.68000000', '0.74101787', '0']\n",
      "\n",
      "> Request.: [1557253500000, '0.00365330', '0.00365980', '0.00365300', '0.00365790', '248.27000000', 1557253559999, '0.90773909', 29, '203.19000000', '0.74288339', '0']\n"
     ]
    }
   ],
   "source": [
    "# Testando consistência do dado para r_1\n",
    "\n",
    "print('Candle mais antigo retornado:')\n",
    "      \n",
    "print('> Wrap....:',candles[0])\n",
    "print ('')\n",
    "print('> Request.:',r_1.json()[0])\n",
    "print ('')\n",
    "print ('')\n",
    "\n",
    "print('Candle mais recente retornado:')\n",
    "      \n",
    "print('> Wrap....:',candles[499])\n",
    "print ('')\n",
    "print('> Request.:',r_1.json()[499])\n",
    "\n",
    "#OBS: Os dados são os mesmos, embora neste cenário o último candle já esteja, obviamente, \n",
    "#fechado, o que faz divergir os últimos valores (\"Quote asset volume\", \"Number of trades\", \"Taker buy \n",
    "#base asset volume\", \"Taker buy quote asset volume\" e \"Ignore\".)"
   ]
  },
  {
   "cell_type": "code",
   "execution_count": 88,
   "metadata": {},
   "outputs": [
    {
     "name": "stdout",
     "output_type": "stream",
     "text": [
      "Candle mais antigo retornado:\n",
      "> Wrap....: [1557223560000, '0.00372330', '0.00372710', '0.00372330', '0.00372340', '390.43000000', 1557223619999, '1.45417279', 38, '103.62000000', '0.38608025', '0']\n",
      "\n",
      "> Request.: [1557223560000, '0.00372330', '0.00372710', '0.00372330', '0.00372340', '390.43000000', 1557223619999, '1.45417279', 38, '103.62000000', '0.38608025', '0']\n",
      "\n",
      "\n",
      "Candle mais recente retornado:\n",
      "> Wrap....: [1557253500000, '0.00365330', '0.00365980', '0.00365300', '0.00365430', '247.76000000', 1557253559999, '0.90587357', 28, '202.68000000', '0.74101787', '0']\n",
      "\n",
      "> Request.: [1557253500000, '0.00365330', '0.00365980', '0.00365300', '0.00365790', '248.27000000', 1557253559999, '0.90773909', 29, '203.19000000', '0.74288339', '0']\n"
     ]
    }
   ],
   "source": [
    "# Testando consistência do dado para r_2\n",
    "\n",
    "print('Candle mais antigo retornado:')\n",
    "      \n",
    "print('> Wrap....:',candles[0])\n",
    "print ('')\n",
    "print('> Request.:',r_2.json()[0])\n",
    "print ('')\n",
    "print ('')\n",
    "\n",
    "print('Candle mais recente retornado:')\n",
    "      \n",
    "print('> Wrap....:',candles[499])\n",
    "print ('')\n",
    "print('> Request.:',r_2.json()[499])\n",
    "\n",
    "#OBS: Os dados são os mesmos, embora neste cenário o último candle já esteja, obviamente, \n",
    "#fechado, o que faz divergir os últimos valores (\"Quote asset volume\", \"Number of trades\", \"Taker buy \n",
    "#base asset volume\", \"Taker buy quote asset volume\" e \"Ignore\".)"
   ]
  },
  {
   "cell_type": "code",
   "execution_count": 86,
   "metadata": {},
   "outputs": [
    {
     "name": "stdout",
     "output_type": "stream",
     "text": [
      "Candle mais antigo retornado:\n",
      "> Wrap....: [1557223560000, '0.00372330', '0.00372710', '0.00372330', '0.00372340', '390.43000000', 1557223619999, '1.45417279', 38, '103.62000000', '0.38608025', '0']\n",
      "\n",
      "> Request.: [1557223560000, '0.00372330', '0.00372710', '0.00372330', '0.00372340', '390.43000000', 1557223619999, '1.45417279', 38, '103.62000000', '0.38608025', '0']\n",
      "\n",
      "\n",
      "Candle mais recente retornado:\n",
      "> Wrap....: [1557253500000, '0.00365330', '0.00365980', '0.00365300', '0.00365430', '247.76000000', 1557253559999, '0.90587357', 28, '202.68000000', '0.74101787', '0']\n",
      "\n",
      "> Request.: [1557253440000, '0.00365970', '0.00365980', '0.00365190', '0.00365510', '1244.03000000', 1557253499999, '4.54674412', 25, '18.54000000', '0.06776524', '0']\n"
     ]
    }
   ],
   "source": [
    "# Testando consistência do dado para r_3\n",
    "\n",
    "print('Candle mais antigo retornado:')\n",
    "      \n",
    "print('> Wrap....:',candles[0])\n",
    "print ('')\n",
    "print('> Request.:',r_3.json()[0])\n",
    "print ('')\n",
    "print ('')\n",
    "\n",
    "print('Candle mais recente retornado:')\n",
    "      \n",
    "print('> Wrap....:',candles[499])\n",
    "print ('')\n",
    "print('> Request.:',r_3.json()[498])\n",
    "\n",
    "# Neste cenário, as entradas divergiram a partir do volume"
   ]
  },
  {
   "cell_type": "code",
   "execution_count": null,
   "metadata": {},
   "outputs": [],
   "source": []
  },
  {
   "cell_type": "code",
   "execution_count": null,
   "metadata": {},
   "outputs": [],
   "source": []
  },
  {
   "cell_type": "code",
   "execution_count": null,
   "metadata": {},
   "outputs": [],
   "source": []
  },
  {
   "cell_type": "code",
   "execution_count": null,
   "metadata": {},
   "outputs": [],
   "source": []
  },
  {
   "cell_type": "code",
   "execution_count": null,
   "metadata": {},
   "outputs": [],
   "source": []
  },
  {
   "cell_type": "markdown",
   "metadata": {},
   "source": [
    "# Deamon de aquisição e salvamento de dados\n",
    "\n",
    "## Lógica de negócio\n",
    "\n",
    "### A - Início\n",
    "    \n",
    "    1 - Consultar o banco de dados em busca da tabela referente ao 'symbol' operado;\n",
    "        \n",
    "        1.1 - Existindo:\n",
    "            i) \"Completa para trás\", a partir da amostra mais antiga encontrada (EM BACKGROUND);\n",
    "            ii) \"Completa para frente\" até o presente, a partir da amostra mais recente encontrada;\n",
    "            iii) Cicla.\n",
    "        \n",
    "        1.2 Não existindo:\n",
    "            i) Completa \"para trás\" a partir do presente (EM BACKGROUND)\n",
    "            ii) Cicla.\n",
    " \n",
    "### B - Ciclos\n",
    "\n",
    "    2 - Consultar o banco de dados em busca da tabela referente ao 'symbol' operado;\n",
    "    3 - Completa pra frente a partir da amostra mais recente encontrada;\n",
    "    4 - Descansa;\n",
    "    5 - Repete enquanto [ ? ].\n",
    "    \n",
    " \n",
    "    \n",
    "    \n",
    "## Plano de Ação\n",
    "\n",
    "* [x] Criar app Django para isto\n",
    "* [ ] Criar a primeira tabela no banco, a partir das 500 amostras já requisitadas\n",
    "* [ ] Escrever e testar as funções de completar para trás e para frente\n",
    "* [ ] Finalizar este módulo\n"
   ]
  },
  {
   "cell_type": "code",
   "execution_count": null,
   "metadata": {},
   "outputs": [],
   "source": []
  },
  {
   "cell_type": "code",
   "execution_count": null,
   "metadata": {},
   "outputs": [],
   "source": []
  },
  {
   "cell_type": "code",
   "execution_count": null,
   "metadata": {},
   "outputs": [],
   "source": []
  },
  {
   "cell_type": "code",
   "execution_count": null,
   "metadata": {},
   "outputs": [],
   "source": []
  },
  {
   "cell_type": "code",
   "execution_count": null,
   "metadata": {},
   "outputs": [],
   "source": []
  },
  {
   "cell_type": "code",
   "execution_count": null,
   "metadata": {},
   "outputs": [],
   "source": []
  },
  {
   "cell_type": "code",
   "execution_count": null,
   "metadata": {},
   "outputs": [],
   "source": []
  },
  {
   "cell_type": "code",
   "execution_count": null,
   "metadata": {},
   "outputs": [],
   "source": []
  },
  {
   "cell_type": "code",
   "execution_count": null,
   "metadata": {},
   "outputs": [],
   "source": []
  },
  {
   "cell_type": "code",
   "execution_count": null,
   "metadata": {},
   "outputs": [],
   "source": []
  },
  {
   "cell_type": "markdown",
   "metadata": {},
   "source": [
    "# EXEMPLO DE CONVERSÃO DE DADOS PARA DATAFRAME"
   ]
  },
  {
   "cell_type": "code",
   "execution_count": 71,
   "metadata": {},
   "outputs": [],
   "source": [
    "def data_historico(par,candle,time_aq):\n",
    "    \"\"\"\n",
    "    Função que recupera os dados históricos de um par junto à Binance.\n",
    "    \"\"\"\n",
    "    \n",
    "    hist1 = client.get_historical_klines(par, candle, time_aq)\n",
    "    \n",
    "    open_time = []; Open = []; High = []; Low = []; Close = []; Volume = []\n",
    "    Close_time = [] ;Quote_asset_volume = []; Number_of_trades = []\n",
    "    #Taker_buy_base_asset_volume = []; Taker_buy_quote_asset_volume = [] ; Can_be_ignored = []\n",
    "    for i in range(0,len(hist1)):\n",
    "        open_time.append(float(hist1[i][0])); Open.append(float(hist1[i][1])); \n",
    "        High.append(float(hist1[i][2])); Low.append(float(hist1[i][3]))\n",
    "        Close.append(float(hist1[i][4])); Volume.append(float(hist1[i][5]))\n",
    "        Close_time.append(float(hist1[i][6])); #Quote_asset_volume.append(float(hist1[i][7]))\n",
    "        Number_of_trades.append(float(hist1[i][8]))#; Taker_buy_base_asset_volume.append(float(hist1[i][9]))\n",
    "        #Taker_buy_quote_asset_volume.append(float(hist1[i][10])); Can_be_ignored.append(float(hist1[i][11]))\n",
    "    \n",
    "    ts_open_time = [datetime.fromtimestamp(x/1000) for x in open_time]\n",
    "    ts_close_time = [datetime.fromtimestamp(x/1000) for x in Close_time]\n",
    "    \n",
    "    d = {'Open': Open, 'High': High, 'Low': Low, 'Close': Close, \n",
    "         'Close_time': ts_close_time, 'Volume': Volume, 'N_of_trades': Number_of_trades}\n",
    "    df_hist = pd.DataFrame(data=d, index=ts_open_time)\n",
    "    \n",
    "    #'Open_time': ts_open_time, retirei esta coluna do dataframe\n",
    "    \n",
    "    return df_hist #open_time,Open,High,Low,Close,Close_time,Volume,Number_of_trades"
   ]
  },
  {
   "cell_type": "code",
   "execution_count": null,
   "metadata": {},
   "outputs": [],
   "source": []
  },
  {
   "cell_type": "code",
   "execution_count": null,
   "metadata": {},
   "outputs": [],
   "source": []
  },
  {
   "cell_type": "code",
   "execution_count": null,
   "metadata": {},
   "outputs": [],
   "source": []
  },
  {
   "cell_type": "code",
   "execution_count": null,
   "metadata": {},
   "outputs": [],
   "source": []
  },
  {
   "cell_type": "code",
   "execution_count": null,
   "metadata": {},
   "outputs": [],
   "source": []
  },
  {
   "cell_type": "code",
   "execution_count": null,
   "metadata": {},
   "outputs": [],
   "source": []
  },
  {
   "cell_type": "code",
   "execution_count": null,
   "metadata": {},
   "outputs": [],
   "source": []
  },
  {
   "cell_type": "code",
   "execution_count": null,
   "metadata": {},
   "outputs": [],
   "source": []
  }
 ],
 "metadata": {
  "kernelspec": {
   "display_name": "Django Shell-Plus",
   "language": "python",
   "name": "django_extensions"
  },
  "language_info": {
   "codemirror_mode": {
    "name": "ipython",
    "version": 3
   },
   "file_extension": ".py",
   "mimetype": "text/x-python",
   "name": "python",
   "nbconvert_exporter": "python",
   "pygments_lexer": "ipython3",
   "version": "3.7.3"
  }
 },
 "nbformat": 4,
 "nbformat_minor": 2
}

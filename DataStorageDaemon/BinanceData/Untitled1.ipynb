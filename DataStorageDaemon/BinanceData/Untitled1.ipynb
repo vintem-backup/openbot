{
 "cells": [
  {
   "cell_type": "code",
   "execution_count": null,
   "metadata": {},
   "outputs": [],
   "source": []
  },
  {
   "cell_type": "code",
   "execution_count": null,
   "metadata": {},
   "outputs": [],
   "source": []
  },
  {
   "cell_type": "code",
   "execution_count": null,
   "metadata": {},
   "outputs": [],
   "source": []
  },
  {
   "cell_type": "code",
   "execution_count": 1,
   "metadata": {},
   "outputs": [],
   "source": [
    "def get_historical_data(pair, max_requests):\n",
    "    \n",
    "    db_update_status = db_update_pair_table(pair,'building')\n",
    "\n",
    "    num_requests = 0\n",
    "    \n",
    "    for i in range(10):\n",
    "        \n",
    "        url = 'https://api.binance.com/api/v1/klines?symbol='+pair+'&interval=1m&startTime=1241893500000'\n",
    "        \n",
    "        try:\n",
    "\n",
    "            oldest_klines = requests.get(url)\n",
    "            \n",
    "            num_requests+= 1\n",
    "            \n",
    "            break\n",
    "            \n",
    "        except Exception as error:\n",
    "            \n",
    "            print('Comunicação com a binance falhou na entrada, erro: ',error) #Na verdade enviar para destino apropriado\n",
    "\n",
    "            time.sleep(5)\n",
    "        \n",
    "    if (oldest_klines):\n",
    "        \n",
    "        db_save_kline_status = db_save_kline(pair,oldest_klines)\n",
    "        \n",
    "        if (db_save_kline_status == 'done'):\n",
    "            \n",
    "            step = 60000\n",
    "            delta_time = 500*step\n",
    "            start_time = int((oldest_klines.json()[0][0])) + delta_time\n",
    "            ciclo = 0\n",
    "            \n",
    "            while True:\n",
    "                \n",
    "                for i in range(10):\n",
    "                    \n",
    "                    url = 'https://api.binance.com/api/v1/klines?symbol='+pair+'&interval=1m&startTime='+str(start_time)\n",
    "                    \n",
    "                    try:\n",
    "                        \n",
    "                        new_klines = requests.get(url)\n",
    "                        \n",
    "                        num_requests+= 1\n",
    "                        \n",
    "                        break\n",
    "\n",
    "                    except Exception as error:\n",
    "                        \n",
    "                        print('Comunicação com a binance falhou no cliclo ',ciclo,', tentativa ',i,'. Erro: ', error) #Na verdade enviar para destino apropriado\n",
    "\n",
    "                        time.sleep(5)\n",
    "\n",
    "                if (new_klines):\n",
    "                    \n",
    "                    if (len(new_klines.json()) < 500): #Chegou no mais recente\n",
    "                        \n",
    "                        print('dado mais atual, este foi o último ciclo')\n",
    "                        \n",
    "                        new_klines = new_klines[:(len(new_klines)-1)]\n",
    "                        \n",
    "                    db_save_kline_status = db_save_kline(pair,new_klines)\n",
    "                    \n",
    "                    start_time = start_time + delta_time\n",
    "                            \n",
    "                    if (len(new_klines.json()) < 500): \n",
    "\n",
    "                        break\n",
    "\n",
    "                    if (len(new_klines.json()) > 500): #Alguma anomalia.\n",
    "\n",
    "                        print('ATENÇÃO, MAIS DE 500 AMOSTRAS')\n",
    "                        break\n",
    "\n",
    "                print ('Número de requests: ', num_requests)\n",
    "\n",
    "                if(num_requests > int(max_requests)):\n",
    "\n",
    "                    print('número máximo de requests atingido, dormindo')\n",
    "                    num_requests = 0\n",
    "                    time.sleep(60)\n",
    "\n",
    "                ciclo+=1\n",
    "\n",
    "            #Atualiza, na tabela \"getdata_pairs\", os 'historical' dos pares \"absent\", de \"building\" para \"full\"\n",
    "            db_update_status = db_update_pair_table(pair,'full')\n",
    "    \n",
    "    return klines"
   ]
  },
  {
   "cell_type": "code",
   "execution_count": null,
   "metadata": {},
   "outputs": [],
   "source": [
    "def db_save_kline(pair,binance_pair_klines):\n",
    "    \n",
    "    "
   ]
  },
  {
   "cell_type": "code",
   "execution_count": null,
   "metadata": {},
   "outputs": [],
   "source": []
  },
  {
   "cell_type": "code",
   "execution_count": null,
   "metadata": {},
   "outputs": [],
   "source": []
  },
  {
   "cell_type": "code",
   "execution_count": null,
   "metadata": {},
   "outputs": [],
   "source": []
  },
  {
   "cell_type": "code",
   "execution_count": null,
   "metadata": {},
   "outputs": [],
   "source": []
  },
  {
   "cell_type": "code",
   "execution_count": null,
   "metadata": {},
   "outputs": [],
   "source": []
  },
  {
   "cell_type": "code",
   "execution_count": null,
   "metadata": {},
   "outputs": [],
   "source": []
  }
 ],
 "metadata": {
  "kernelspec": {
   "display_name": "Django Shell-Plus",
   "language": "python",
   "name": "django_extensions"
  },
  "language_info": {
   "codemirror_mode": {
    "name": "ipython",
    "version": 3
   },
   "file_extension": ".py",
   "mimetype": "text/x-python",
   "name": "python",
   "nbconvert_exporter": "python",
   "pygments_lexer": "ipython3",
   "version": "3.7.3"
  }
 },
 "nbformat": 4,
 "nbformat_minor": 2
}
